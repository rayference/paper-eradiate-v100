{
 "cells": [
  {
   "cell_type": "markdown",
   "metadata": {},
   "source": [
    "# Vegetated canopies (RAMI-V)\n",
    "\n",
    "This example loads a pre-defined canopy chosen in the RAMI-V scenario list and\n",
    "generates an RGB render of it. It demonstrates the usage of the RAMI canopy\n",
    "loader interface and provides a simple framework to experiments with sensors and\n",
    "illumination.\n",
    "\n",
    "We start with a few imports:"
   ]
  },
  {
   "cell_type": "code",
   "execution_count": null,
   "metadata": {},
   "outputs": [],
   "source": [
    "from pathlib import Path\n",
    "\n",
    "import numpy as np\n",
    "import matplotlib.pyplot as plt\n",
    "import eradiate\n",
    "from eradiate.experiments import CanopyAtmosphereExperiment\n",
    "from eradiate.scenes.biosphere import load_rami_scenario\n",
    "from eradiate.units import unit_registry as ureg\n",
    "from eradiate.tutorials import plot_polarfilm"
   ]
  },
  {
   "cell_type": "markdown",
   "metadata": {},
   "source": [
    "We select the monochromatic mode and assign the wavelengths we select for the RGB channels in a constant variable. We also set the location where we want the RAMI canopy definitions to be stored."
   ]
  },
  {
   "cell_type": "code",
   "execution_count": null,
   "metadata": {},
   "outputs": [],
   "source": [
    "eradiate.plot.set_style()\n",
    "plt.style.use(\"eradiate.mplstyle\")\n",
    "\n",
    "eradiate.set_mode(\"mono\")\n",
    "RGB = [440.0, 550.0, 660.0] * ureg.nm\n",
    "unpack_folder = Path(\n",
    "    \"../data/rami_scenarios/\"\n",
    ")  # location where to store canopy definitions\n",
    "eradiate.fresolver.append(\"../data\")"
   ]
  },
  {
   "cell_type": "markdown",
   "metadata": {},
   "source": [
    "Next, we perform some basic setup. The selected RAMI scenario is designated by its identifier. We will make an image with a perspective camera, and the default setup presented here places it inside or just above the canopy, depending on the scenario."
   ]
  },
  {
   "cell_type": "code",
   "execution_count": null,
   "metadata": {},
   "outputs": [],
   "source": [
    "scenario_name = \"HET14_WCO_UND\"  # Wellington Citrus Orchard (low memory usage)\n",
    "\n",
    "# Common setup\n",
    "padding = 3  # apply padding to clone the canopy\n",
    "atmosphere = {\"type\": \"molecular\"}  # basic atmosphere\n",
    "directional = {\"type\": \"directional\", \"zenith\": 37.0, \"azimuth\": 248.0}\n",
    "srf = {\"type\": \"delta\", \"wavelengths\": RGB}\n",
    "spp = 16  # low value to get results quickly even with a small computer\n",
    "\n",
    "\n",
    "# Scene-specific setup\n",
    "def get_camera(scenario_name, film_resolution=(400, 200)):\n",
    "    if scenario_name == \"HET14_WCO_UND\":\n",
    "        # Wellington citrus orchard\n",
    "        origin = [2, -5, 5.5] * ureg.m\n",
    "        target = origin + [0.2, 1, -0.05] * ureg.m\n",
    "    elif scenario_name == \"HET50_SAV_PRE\":\n",
    "        # Savanna\n",
    "        origin = [-5, -3, 2.5] * ureg.m\n",
    "        target = origin + [0, 1, 0] * ureg.m\n",
    "    elif scenario_name == \"HET51_WWO_TLS\":\n",
    "        # Wytham Wood\n",
    "        origin = [2, -5, 22.5] * ureg.m\n",
    "        target = origin + [0.2, 1, -0.05] * ureg.m\n",
    "    else:\n",
    "        raise ValueError(f\"no parameters for {scenario_name}\")\n",
    "\n",
    "    return {\n",
    "        \"type\": \"perspective\",\n",
    "        \"film_resolution\": film_resolution,\n",
    "        \"origin\": origin,\n",
    "        \"target\": target,\n",
    "        \"up\": [0, 0, 1],\n",
    "        \"srf\": srf,\n",
    "    }\n",
    "\n",
    "\n",
    "camera = get_camera(scenario_name)"
   ]
  },
  {
   "cell_type": "markdown",
   "metadata": {},
   "source": [
    "Now, let's load the scenario. The definition can be readily passed to the `CanopyAtmosphereExperiment` class. Depending on the scene and hardware, scene loading can take from a few seconds to several minutes."
   ]
  },
  {
   "cell_type": "code",
   "execution_count": null,
   "metadata": {},
   "outputs": [],
   "source": [
    "scenario_data = load_rami_scenario(\n",
    "    scenario_name=scenario_name, unpack_folder=unpack_folder, padding=padding\n",
    ")\n",
    "\n",
    "exp = CanopyAtmosphereExperiment(\n",
    "    **scenario_data,\n",
    "    # atmosphere=None,\n",
    "    atmosphere=atmosphere,\n",
    "    measures=camera,\n",
    "    illumination=directional,\n",
    ")\n",
    "\n",
    "exp.init()"
   ]
  },
  {
   "cell_type": "markdown",
   "metadata": {},
   "source": [
    "Now, let's render the image:"
   ]
  },
  {
   "cell_type": "code",
   "execution_count": null,
   "metadata": {},
   "outputs": [],
   "source": [
    "result = eradiate.run(exp, spp=16)"
   ]
  },
  {
   "cell_type": "markdown",
   "metadata": {},
   "source": [
    "We can use Eradiate's basic tone mapping function to post-process the image:"
   ]
  },
  {
   "cell_type": "code",
   "execution_count": null,
   "metadata": {},
   "outputs": [],
   "source": [
    "img = (\n",
    "    eradiate.xarray.interp.dataarray_to_rgb(\n",
    "        result[\"radiance\"].squeeze(),\n",
    "        channels=[(\"w\", 660), (\"w\", 550), (\"w\", 440)],\n",
    "        normalize=False,\n",
    "    )\n",
    "    * 1.8\n",
    ")\n",
    "plt.imshow(img)\n",
    "plt.axis(\"off\")\n",
    "# plt.imsave(\"wco_rami.png\", img.clip(0, 1))\n",
    "plt.show()\n",
    "plt.close()"
   ]
  },
  {
   "cell_type": "markdown",
   "metadata": {},
   "source": [
    "## Computing reflectances\n",
    "\n",
    "Building on this setup, we can compute the top-of-atmosphere and top-of-canopy reflectance for this canopy (at 550 nm). We need to set up a distant radiance sensor that samples the entire horizontal extent of the canopy unit cell:"
   ]
  },
  {
   "cell_type": "code",
   "execution_count": null,
   "metadata": {},
   "outputs": [],
   "source": [
    "# Sensor target definition\n",
    "target = {\n",
    "    \"type\": \"rectangle\",\n",
    "    \"xmin\": -54.1 * ureg.m,\n",
    "    \"xmax\": 54.1 * ureg.m,\n",
    "    \"ymin\": -51.95 * ureg.m,\n",
    "    \"ymax\": 51.95 * ureg.m,\n",
    "    \"z\": 12.4 * ureg.m,\n",
    "}\n",
    "\n",
    "# Let's visualize the reflected radiance in the entire hemisphere\n",
    "toa_brf_hemisphere = {\n",
    "    \"type\": \"hdistant\",\n",
    "    \"id\": \"toa_brf_hemisphere\",\n",
    "    \"target\": target,\n",
    "}\n",
    "\n",
    "# and in the principal plane\n",
    "toa_brf_pplane = {\n",
    "    \"type\": \"mdistant\",\n",
    "    \"id\": \"toa_brf_pplane\",\n",
    "    \"construct\": \"hplane\",\n",
    "    \"azimuth\": directional[\"azimuth\"],\n",
    "    \"zeniths\": np.arange(-75, 76, 1),\n",
    "    \"target\": target,\n",
    "}\n",
    "\n",
    "# We duplicate those sensors for the atmosphere-free setup (we only change their IDs)\n",
    "toc_brf_hemisphere = {**toa_brf_hemisphere, \"id\": \"toc_brf_hemisphere\"}\n",
    "toc_brf_pplane = {**toa_brf_pplane, \"id\": \"toc_brf_pplane\"}\n",
    "\n",
    "# We'll store all results in a dictionary\n",
    "result = {}"
   ]
  },
  {
   "cell_type": "code",
   "execution_count": null,
   "metadata": {},
   "outputs": [],
   "source": [
    "# Load the scenario with the same parameters as before, and some padding (5 may\n",
    "# be insufficient to converge to a quasi-periodic solution, but we use this\n",
    "# value to keep the computational time reasonable)\n",
    "scenario_data = load_rami_scenario(\n",
    "    scenario_name=scenario_name, unpack_folder=unpack_folder, padding=5\n",
    ")"
   ]
  },
  {
   "cell_type": "code",
   "execution_count": null,
   "metadata": {},
   "outputs": [],
   "source": [
    "# Compute the TOA BRF\n",
    "exp = CanopyAtmosphereExperiment(\n",
    "    **scenario_data,\n",
    "    atmosphere=atmosphere,\n",
    "    measures=[toa_brf_pplane, toa_brf_hemisphere],\n",
    "    illumination=directional,\n",
    ")\n",
    "\n",
    "exp.init()\n",
    "result.update(eradiate.run(exp, spp=int(1e5)))"
   ]
  },
  {
   "cell_type": "code",
   "execution_count": null,
   "metadata": {},
   "outputs": [],
   "source": [
    "# Compute the TOC BRF\n",
    "exp = CanopyAtmosphereExperiment(\n",
    "    **scenario_data,\n",
    "    atmosphere=None,\n",
    "    measures=[toc_brf_pplane, toc_brf_hemisphere],\n",
    "    illumination=directional,\n",
    ")\n",
    "\n",
    "exp.init()\n",
    "result.update(eradiate.run(exp, spp=int(1e5)))"
   ]
  },
  {
   "cell_type": "code",
   "execution_count": null,
   "metadata": {},
   "outputs": [],
   "source": [
    "# Plot reflectance in polar coordinates\n",
    "for var, label in [\n",
    "    (\"toa_brf_hemisphere\", \"TOA BRF\"),\n",
    "    (\"toc_brf_hemisphere\", \"TOC BRF\"),\n",
    "]:\n",
    "    fig = plot_polarfilm(\n",
    "        result[var][\"brf\"].squeeze(),\n",
    "        theta_max=75,\n",
    "    )\n",
    "    ax = fig.axes[1]\n",
    "    ax.set_title(label)\n",
    "    ax.scatter(\n",
    "        np.deg2rad(result[var][\"saa\"]),\n",
    "        result[var][\"sza\"],\n",
    "        marker=\"*\",\n",
    "        c=\"yellow\",\n",
    "        edgecolors=\"black\",\n",
    "        s=150,\n",
    "    )\n",
    "    plt.savefig(f\"wco_{var}.pdf\", bbox_inches=\"tight\")\n",
    "    plt.show(fig)"
   ]
  },
  {
   "cell_type": "code",
   "execution_count": null,
   "metadata": {},
   "outputs": [],
   "source": [
    "# Plot reflectance in principal plane\n",
    "fig, ax = plt.subplots(1, 1, figsize=(6, 3))\n",
    "\n",
    "for var, label, color in [\n",
    "    (\"toa_brf_pplane\", \"TOA BRF\", \"tab:blue\"),\n",
    "    (\"toc_brf_pplane\", \"TOC BRF\", \"tab:orange\"),\n",
    "]:\n",
    "    da = result[var][\"brf\"].squeeze()\n",
    "    ax.plot(da[\"vza\"].values, da.values, label=label, color=color)\n",
    "\n",
    "ax.set_xlabel(\"Viewing Zenith Angle [°]\")\n",
    "ax.legend()\n",
    "plt.savefig(\"wco_reflectance_pplane.pdf\", bbox_inches=\"tight\")\n",
    "plt.show()\n",
    "plt.close()"
   ]
  },
  {
   "cell_type": "markdown",
   "metadata": {},
   "source": [
    "## Using customized spectral properties\n",
    "\n",
    "The render we produced is arguably not very realistic: it interpolates the RAMI-V spectral information, which does not particularly well align with the selected wavelengths. We can assign more plausible values when we use the canopy loader.\n",
    "\n",
    "What we are about to do works for the Wellington citrus orchard scene only: the other scenes will require a different setup. Let's start by importing some data:"
   ]
  },
  {
   "cell_type": "code",
   "execution_count": null,
   "metadata": {},
   "outputs": [],
   "source": [
    "bilambertian_leaf_cellulose = eradiate.fresolver.load_dataset(\n",
    "    \"bsdf/bilambertian_leaf_cellulose.nc\"\n",
    ")\n",
    "bilambertian_leaf_cellulose = bilambertian_leaf_cellulose.assign_coords(\n",
    "    {\"w\": (bilambertian_leaf_cellulose[\"w\"] * 1000.0)}\n",
    ").assign_attrs({\"w\": \"nm\"})\n",
    "\n",
    "lambertian_soil = eradiate.fresolver.load_dataset(\"bsdf/lambertian_soil.nc\").sel(\n",
    "    brightness=\"bright\"\n",
    ")\n",
    "lambertian_soil = lambertian_soil.assign_coords(\n",
    "    {\"w\": (lambertian_soil[\"w\"] * 1000.0)}\n",
    ").assign_attrs({\"w\": \"nm\"})\n",
    "\n",
    "\n",
    "lambertian_wood = eradiate.fresolver.load_dataset(\"bsdf/lambertian_disney_2011.nc\")[\n",
    "    \"bark\"\n",
    "]\n",
    "lambertian_wood[\"w\"].attrs[\"units\"] = \"nm\"\n",
    "\n",
    "bilambertian_leaf_cellulose[\"reflectance\"].plot(label=\"leaf_reflectance\")\n",
    "bilambertian_leaf_cellulose[\"transmittance\"].plot(label=\"leaf_transmittance\")\n",
    "lambertian_soil[\"reflectance\"].plot(label=\"soil_reflectance\")\n",
    "lambertian_wood.plot(label=\"wood_reflectance\")\n",
    "plt.title(\"\")\n",
    "plt.ylabel(\"\")\n",
    "plt.legend()"
   ]
  },
  {
   "cell_type": "markdown",
   "metadata": {},
   "source": [
    "We define optical property spectra for both materials. To keep things minimal, we interpolate the spectra on the pre-defined RGB channels; but we could keep the full spectra (clipping NaN values), and it would also work just fine."
   ]
  },
  {
   "cell_type": "code",
   "execution_count": null,
   "metadata": {},
   "outputs": [],
   "source": [
    "materials = {\n",
    "    \"leaf\": {\n",
    "        \"reflectance\": {\n",
    "            \"type\": \"interpolated\",\n",
    "            \"wavelengths\": RGB,\n",
    "            \"values\": bilambertian_leaf_cellulose[\"reflectance\"]\n",
    "            .dropna(\"w\")\n",
    "            .interp(w=np.sort(RGB).m, kwargs={\"fill_value\": \"extrapolate\"})\n",
    "            .values,\n",
    "        },\n",
    "        \"transmittance\": {\n",
    "            \"type\": \"interpolated\",\n",
    "            \"wavelengths\": RGB,\n",
    "            \"values\": bilambertian_leaf_cellulose[\"transmittance\"]\n",
    "            .dropna(\"w\")\n",
    "            .interp(w=np.sort(RGB).m, kwargs={\"fill_value\": \"extrapolate\"})\n",
    "            .values,\n",
    "        },\n",
    "    },\n",
    "    \"bright_soil\": {\n",
    "        \"reflectance\": {\n",
    "            \"type\": \"interpolated\",\n",
    "            \"wavelengths\": RGB,\n",
    "            \"values\": lambertian_soil[\"reflectance\"]\n",
    "            .dropna(\"w\")\n",
    "            .interp(w=np.sort(RGB).m, kwargs={\"fill_value\": \"extrapolate\"})\n",
    "            .values,\n",
    "        }\n",
    "    },\n",
    "    \"wood\": {\n",
    "        \"reflectance\": {\n",
    "            \"type\": \"interpolated\",\n",
    "            \"wavelengths\": RGB,\n",
    "            \"values\": lambertian_wood.dropna(\"w\")\n",
    "            .interp(w=np.sort(RGB).m, kwargs={\"fill_value\": \"extrapolate\"})\n",
    "            .values,\n",
    "        }\n",
    "    },\n",
    "}"
   ]
  },
  {
   "cell_type": "markdown",
   "metadata": {},
   "source": [
    "Next, we assign the spectra to each part of the scene:"
   ]
  },
  {
   "cell_type": "code",
   "execution_count": null,
   "metadata": {},
   "outputs": [],
   "source": [
    "trees = [f\"CISI{i}\" for i in range(1, 11)]\n",
    "parts = [\"Leaves\", \"Wood\"]\n",
    "\n",
    "mat_to_entry = {\n",
    "    \"wood\": sorted(\n",
    "        [f\"{tree}.{part}\" for tree in trees for part in parts if part == \"Wood\"]\n",
    "    ),\n",
    "    \"leaf\": sorted(\n",
    "        [f\"{tree}.{part}\" for tree in trees for part in parts if part == \"Leaves\"]\n",
    "    ),\n",
    "}\n",
    "\n",
    "spectral_data = {\"ground\": materials[\"bright_soil\"].copy()}\n",
    "for mat, entries in mat_to_entry.items():\n",
    "    for entry in entries:\n",
    "        tree, component = entry.split(\".\")\n",
    "\n",
    "        if tree not in spectral_data:\n",
    "            spectral_data[tree] = {}\n",
    "\n",
    "        spectral_data[tree][component] = materials[mat].copy()\n",
    "\n",
    "# spectral_data"
   ]
  },
  {
   "cell_type": "markdown",
   "metadata": {},
   "source": [
    "Now, we can render the scene against and check that the colours seem more natural:"
   ]
  },
  {
   "cell_type": "code",
   "execution_count": null,
   "metadata": {},
   "outputs": [],
   "source": [
    "# Load the scene with the updated material definitions\n",
    "scenario_data = load_rami_scenario(\n",
    "    scenario_name,\n",
    "    unpack_folder=unpack_folder,\n",
    "    padding=padding,\n",
    "    spectral_data=spectral_data,\n",
    ")"
   ]
  },
  {
   "cell_type": "code",
   "execution_count": null,
   "metadata": {},
   "outputs": [],
   "source": [
    "# Load the Eradiate experiment\n",
    "exp = CanopyAtmosphereExperiment(\n",
    "    **scenario_data,\n",
    "    # atmosphere=None,\n",
    "    atmosphere=atmosphere,\n",
    "    measures=camera,\n",
    "    # measures=get_camera(scenario_name, film_resolution=(1500, 750)),\n",
    "    illumination=directional,\n",
    ")\n",
    "\n",
    "exp.init()"
   ]
  },
  {
   "cell_type": "code",
   "execution_count": null,
   "metadata": {},
   "outputs": [],
   "source": [
    "result = eradiate.run(exp, spp=spp)"
   ]
  },
  {
   "cell_type": "code",
   "execution_count": null,
   "metadata": {},
   "outputs": [],
   "source": [
    "img = (\n",
    "    eradiate.xarray.interp.dataarray_to_rgb(\n",
    "        result[\"radiance\"].squeeze(),\n",
    "        channels=[(\"w\", w) for w in RGB.m[::-1]],\n",
    "        normalize=False,\n",
    "    )\n",
    "    * 1.8\n",
    ")\n",
    "plt.imshow(img)\n",
    "plt.axis(\"off\")\n",
    "plt.imsave(\"wco_natural.png\", img.clip(0, 1))\n",
    "plt.show()\n",
    "plt.close()"
   ]
  },
  {
   "cell_type": "markdown",
   "metadata": {},
   "source": [
    "And we can also visualize the unit cell from above:"
   ]
  },
  {
   "cell_type": "code",
   "execution_count": null,
   "metadata": {},
   "outputs": [],
   "source": [
    "# Load the Eradiate experiment\n",
    "scenario_data = load_rami_scenario(\n",
    "    scenario_name,\n",
    "    unpack_folder=unpack_folder,\n",
    "    padding=0,\n",
    "    spectral_data=spectral_data,\n",
    ")\n",
    "\n",
    "exp = CanopyAtmosphereExperiment(\n",
    "    **scenario_data,\n",
    "    atmosphere=None,\n",
    "    measures={\n",
    "        \"type\": \"perspective\",\n",
    "        \"film_resolution\": (256, 256),\n",
    "        \"srf\": srf,\n",
    "        \"origin\": [0, 0, 1240],\n",
    "        \"target\": [0, 0, 0],\n",
    "        \"up\": [0, 1, 0],\n",
    "        \"fov\": 5,\n",
    "    },\n",
    "    illumination=directional,\n",
    ")\n",
    "\n",
    "exp.init()\n",
    "result = eradiate.run(exp, spp=16)\n",
    "\n",
    "img = (\n",
    "    eradiate.xarray.interp.dataarray_to_rgb(\n",
    "        result[\"radiance\"].squeeze(),\n",
    "        channels=[(\"w\", w) for w in RGB.m[::-1]],\n",
    "        normalize=False,\n",
    "    )\n",
    "    * 1.8\n",
    ")\n",
    "plt.imshow(img)\n",
    "plt.axis(\"off\")\n",
    "plt.imsave(\"wco_unit_cell.png\", img.clip(0, 1))\n",
    "plt.show()\n",
    "plt.close()"
   ]
  },
  {
   "cell_type": "markdown",
   "metadata": {},
   "source": [
    "## Savanna pre-fire setup\n",
    "\n",
    "The Savanna pre-fire scene definition is heavier than the Wellington citrus orchard, and it has a different layout. In the following, we apply the same approach to load the scene and change its spectra properties to get a setup that produces images similar to what is in the Eradiate v1.0.0 paper."
   ]
  },
  {
   "cell_type": "code",
   "execution_count": null,
   "metadata": {},
   "outputs": [],
   "source": [
    "scenario_name = \"HET50_SAV_PRE\"  # Savanna pre-fire (high memory usage)\n",
    "padding = 1"
   ]
  },
  {
   "cell_type": "code",
   "execution_count": null,
   "metadata": {},
   "outputs": [],
   "source": [
    "reflectance = eradiate.fresolver.load_dataset(\"bsdf/lambertian_disney_2011.nc\")\n",
    "\n",
    "materials = {\n",
    "    var: {\n",
    "        \"type\": \"interpolated\",\n",
    "        \"wavelengths\": RGB,\n",
    "        \"values\": reflectance[var]\n",
    "        .dropna(\"w\")\n",
    "        .interp(w=np.sort(RGB).m, kwargs={\"fill_value\": \"extrapolate\"})\n",
    "        .values,\n",
    "    }\n",
    "    for var in reflectance.data_vars\n",
    "}\n",
    "\n",
    "# materials"
   ]
  },
  {
   "cell_type": "code",
   "execution_count": null,
   "metadata": {},
   "outputs": [],
   "source": [
    "trees = (\n",
    "    [f\"combretum_leafon{x}{flat}\" for x in [1, 2] for flat in [\"\", \"_flat\"]]\n",
    "    + [f\"combretum_leafoff{x}{flat}\" for x in [1, 2, 3, 4, 5] for flat in [\"\", \"_flat\"]]\n",
    "    + [f\"merula{x}\" for x in [1, 2, 3]]\n",
    ")\n",
    "parts = [\"Bough\", \"Leaf1\", \"measured_branch\", \"measured_trunk\"]\n",
    "\n",
    "mat_to_entry = {\n",
    "    \"bark\": sorted(\n",
    "        [f\"{tree}.{part}\" for tree in trees for part in parts if (not part == \"Leaf1\")]\n",
    "    ),\n",
    "    \"bright_soil\": [],\n",
    "    \"burnt_bark\": [],\n",
    "    \"char\": [],\n",
    "    \"dry_grass\": [f\"grass{x}.measured_stem\" for x in range(10)],\n",
    "    \"leaf\": sorted(\n",
    "        [\n",
    "            f\"{tree}.{part}\"\n",
    "            for tree in trees\n",
    "            for part in parts\n",
    "            if (part == \"Leaf1\") and ((\"leafoff\" not in tree) or (\"leafoff1\" in tree))\n",
    "        ]\n",
    "    ),\n",
    "}\n",
    "\n",
    "spectral_data = {\n",
    "    \"ground\": {\"reflectance\": materials[\"bright_soil\"]},\n",
    "}\n",
    "for mat, entries in mat_to_entry.items():\n",
    "    for entry in entries:\n",
    "        tree, component = entry.split(\".\")\n",
    "\n",
    "        if tree not in spectral_data:\n",
    "            spectral_data[tree] = {}\n",
    "\n",
    "        spectral_data[tree][component] = {\n",
    "            \"reflectance\": materials[mat],\n",
    "            \"transmittance\": 0.0,  # add transmittance value so material is two-sided\n",
    "        }\n",
    "\n",
    "# spectral_data"
   ]
  },
  {
   "cell_type": "code",
   "execution_count": null,
   "metadata": {},
   "outputs": [],
   "source": [
    "scenario_data = load_rami_scenario(\n",
    "    scenario_name,\n",
    "    unpack_folder=unpack_folder,\n",
    "    padding=padding,\n",
    "    spectral_data=spectral_data,\n",
    ")\n",
    "# display(scenario_data[\"canopy\"])\n",
    "\n",
    "# Filter out flat trees (which we don't really see because of the high grass)\n",
    "to_keep = [\n",
    "    i\n",
    "    for i, element in enumerate(scenario_data[\"canopy\"][\"instanced_canopy_elements\"])\n",
    "    if \"grass\" in element[\"canopy_element\"][\"id\"]\n",
    "    or (\n",
    "        (\n",
    "            \"merula\" in element[\"canopy_element\"][\"id\"]\n",
    "            or \"combretum\" in element[\"canopy_element\"][\"id\"]\n",
    "        )\n",
    "        and (\"flat\" not in element[\"canopy_element\"][\"id\"])\n",
    "    )\n",
    "]\n",
    "scenario_data[\"canopy\"][\"instanced_canopy_elements\"] = [\n",
    "    scenario_data[\"canopy\"][\"instanced_canopy_elements\"][i] for i in to_keep\n",
    "]"
   ]
  },
  {
   "cell_type": "code",
   "execution_count": null,
   "metadata": {},
   "outputs": [],
   "source": [
    "camera = get_camera(scenario_name)\n",
    "\n",
    "exp = CanopyAtmosphereExperiment(\n",
    "    **scenario_data,\n",
    "    # atmosphere=None,\n",
    "    atmosphere=atmosphere,\n",
    "    measures=camera,\n",
    "    illumination=directional,\n",
    ")\n",
    "\n",
    "exp.init()"
   ]
  },
  {
   "cell_type": "code",
   "execution_count": null,
   "metadata": {},
   "outputs": [],
   "source": [
    "result = eradiate.run(exp, spp=spp)"
   ]
  },
  {
   "cell_type": "code",
   "execution_count": null,
   "metadata": {},
   "outputs": [],
   "source": [
    "plt.imshow(\n",
    "    eradiate.xarray.interp.dataarray_to_rgb(\n",
    "        result[\"radiance\"].squeeze(),\n",
    "        channels=[(\"w\", w) for w in RGB.m[::-1]],\n",
    "        normalize=False,\n",
    "    )\n",
    "    * 1.8\n",
    ")\n",
    "plt.axis(\"off\")"
   ]
  },
  {
   "cell_type": "markdown",
   "metadata": {},
   "source": [
    "What's next?\n",
    "\n",
    "* Adjust simulation parameters (sample count, padding, sensor position, spectral properties, atmosphere).\n",
    "* Compute the BOA HDRF of the canopy."
   ]
  }
 ],
 "metadata": {
  "kernelspec": {
   "display_name": "default",
   "language": "python",
   "name": "python3"
  },
  "language_info": {
   "codemirror_mode": {
    "name": "ipython",
    "version": 3
   },
   "file_extension": ".py",
   "mimetype": "text/x-python",
   "name": "python",
   "nbconvert_exporter": "python",
   "pygments_lexer": "ipython3",
   "version": "3.10.18"
  }
 },
 "nbformat": 4,
 "nbformat_minor": 2
}
