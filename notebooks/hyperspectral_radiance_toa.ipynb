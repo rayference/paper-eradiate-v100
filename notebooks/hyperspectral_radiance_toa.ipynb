{
 "cells": [
  {
   "cell_type": "markdown",
   "id": "0",
   "metadata": {},
   "source": [
    "# Calculate radiance spectrum at the top of the atmosphere  "
   ]
  },
  {
   "cell_type": "code",
   "execution_count": null,
   "id": "1",
   "metadata": {},
   "outputs": [],
   "source": [
    "# Download the panellus CKD dataset if it's not here yet\n",
    "!eradiate data install panellus"
   ]
  },
  {
   "cell_type": "code",
   "execution_count": null,
   "id": "2",
   "metadata": {},
   "outputs": [],
   "source": [
    "import numpy as np\n",
    "import eradiate\n",
    "\n",
    "from eradiate import unit_registry as ureg\n",
    "from eradiate.scenes.atmosphere import MolecularAtmosphere\n",
    "from eradiate import scenes as ertsc"
   ]
  },
  {
   "cell_type": "code",
   "execution_count": null,
   "id": "3",
   "metadata": {},
   "outputs": [],
   "source": [
    "eradiate.plot.set_style()\n",
    "eradiate.fresolver.append(\"../data\")"
   ]
  },
  {
   "cell_type": "markdown",
   "id": "4",
   "metadata": {},
   "source": [
    "### Define molecular absorption parameterization\n",
    " \n",
    "We set the simulation mode to \"ckd_double\", which means that we use a correlated-k distribution and run the simuilation in double precision. \n",
    "\n",
    "We select the US standard atmosphere and choose the absorption parameterization \"panellus\" for hyperspectral simulations at a spectral resolution of 1nm."
   ]
  },
  {
   "cell_type": "code",
   "execution_count": null,
   "id": "5",
   "metadata": {},
   "outputs": [],
   "source": [
    "eradiate.set_mode(\"ckd_double\")\n",
    "atmosphere_gas = MolecularAtmosphere(\n",
    "    thermoprops={\n",
    "        \"identifier\": \"afgl_1986-us_standard\",\n",
    "        \"z\": np.linspace(0.0, 120.0, 121) * ureg.km,\n",
    "    },\n",
    "    absorption_data=\"panellus\",\n",
    ")"
   ]
  },
  {
   "cell_type": "markdown",
   "id": "6",
   "metadata": {},
   "source": [
    "### Define an aerosol layer\n",
    "\n",
    "Here we define a uniform aerosol layer between 0 and 3 km altitude with an optical thickness of 2 at 550 nm. The aerosol optical properties correspond to the continental aerosol distribution as parameterized in the SIX6V RT model. "
   ]
  },
  {
   "cell_type": "code",
   "execution_count": null,
   "id": "7",
   "metadata": {},
   "outputs": [],
   "source": [
    "particle_layer = ertsc.atmosphere.ParticleLayer(\n",
    "    tau_ref=2,\n",
    "    w_ref=550,\n",
    "    bottom=0,\n",
    "    top=3 * ureg.km,\n",
    "    distribution=\"uniform\",\n",
    "    dataset=\"sixsv-continental\",\n",
    ")"
   ]
  },
  {
   "cell_type": "markdown",
   "id": "8",
   "metadata": {},
   "source": [
    "Now we combine the molecular atmosphere and the aerosol layer."
   ]
  },
  {
   "cell_type": "code",
   "execution_count": null,
   "id": "9",
   "metadata": {},
   "outputs": [],
   "source": [
    "atmosphere = ertsc.atmosphere.HeterogeneousAtmosphere(\n",
    "    molecular_atmosphere=atmosphere_gas,  # MolecularAtmosphere(absorption_data=\"panellus\"),\n",
    "    particle_layers=[particle_layer],\n",
    ")"
   ]
  },
  {
   "cell_type": "markdown",
   "id": "10",
   "metadata": {},
   "source": [
    "### Define the surface albedo\n",
    "\n",
    "We load a spectral surface albedo file extracted from HAMSTER data as an ascii file and define an InterpolatedSpectrum to be used in the simulation."
   ]
  },
  {
   "cell_type": "code",
   "execution_count": null,
   "id": "11",
   "metadata": {},
   "outputs": [],
   "source": [
    "# spectral albedo data extracted from HAMSTER dataset, read as ascii file\n",
    "from eradiate.scenes.spectra import InterpolatedSpectrum\n",
    "\n",
    "albedo_data = np.loadtxt(\n",
    "    eradiate.fresolver.resolve(\"HAMSTER_spectral_albedo_Gobabeb_015.txt\"),\n",
    "    skiprows=1,\n",
    ")\n",
    "albedo_spectrum = InterpolatedSpectrum(\n",
    "    wavelengths=albedo_data[:, 0], values=albedo_data[:, 1]\n",
    ")"
   ]
  },
  {
   "cell_type": "code",
   "execution_count": null,
   "id": "12",
   "metadata": {},
   "outputs": [],
   "source": [
    "# define the atmosphere experiment function\n",
    "def run_exp(spp, wmin, wmax, atmosphere, vza, vaa, sza, saa, integrator=None):\n",
    "    \"\"\"\n",
    "    Generate and run an atmosphere experiment.\n",
    "    \"\"\"\n",
    "\n",
    "    if integrator is None:\n",
    "        integrator = ertsc.integrators.VolPathIntegrator()\n",
    "\n",
    "    measure = ertsc.measure.MultiDistantMeasure.hplane(\n",
    "        zeniths=np.array(vza),\n",
    "        azimuth=vaa,\n",
    "        spp=spp,\n",
    "        srf={\"type\": \"uniform\", \"wmin\": wmin, \"wmax\": wmax},\n",
    "    )\n",
    "\n",
    "    exp = eradiate.experiments.AtmosphereExperiment(\n",
    "        surface={\n",
    "            \"type\": \"lambertian\",\n",
    "            \"reflectance\": albedo_spectrum,\n",
    "        },\n",
    "        illumination={\n",
    "            \"type\": \"directional\",\n",
    "            \"zenith\": sza,\n",
    "            \"azimuth\": saa,\n",
    "        },\n",
    "        atmosphere=atmosphere,\n",
    "        measures=measure,\n",
    "        integrator=integrator,\n",
    "    )\n",
    "\n",
    "    # if moment is True, the variance of the radiance is computed\n",
    "    exp.integrator.moment = True\n",
    "\n",
    "    return eradiate.run(exp, spp=spp)"
   ]
  },
  {
   "cell_type": "code",
   "execution_count": null,
   "id": "13",
   "metadata": {},
   "outputs": [],
   "source": [
    "spectral_radiance = run_exp(\n",
    "    spp=1000,\n",
    "    wmin=600,\n",
    "    wmax=850,\n",
    "    atmosphere=atmosphere,\n",
    "    vza=60,\n",
    "    vaa=75,\n",
    "    sza=30,\n",
    "    saa=160,\n",
    "    integrator=None,\n",
    ")"
   ]
  },
  {
   "cell_type": "markdown",
   "id": "14",
   "metadata": {},
   "source": [
    "### Plot the radiance spectrum "
   ]
  },
  {
   "cell_type": "code",
   "execution_count": null,
   "id": "15",
   "metadata": {},
   "outputs": [],
   "source": [
    "import matplotlib.pyplot as plt\n",
    "\n",
    "fig, ax = plt.subplots(figsize=(6, 3.5), dpi=150)\n",
    "\n",
    "wavelengths = spectral_radiance[\"w\"].values\n",
    "radiance = spectral_radiance[\"radiance\"].isel(sza=0, saa=0, y_index=0, x_index=0).values\n",
    "radiance_var = (\n",
    "    spectral_radiance[\"radiance_var\"].isel(sza=0, saa=0, y_index=0, x_index=0).values\n",
    ")\n",
    "std = np.sqrt(radiance_var)\n",
    "upper = (radiance + 2.0 * std).squeeze()\n",
    "lower = (radiance - 2.0 * std).squeeze()\n",
    "\n",
    "ax.plot(wavelengths, radiance, label=\"radiance\", color=\"tab:blue\", lw=1)\n",
    "ax.fill_between(\n",
    "    wavelengths, upper, lower, alpha=0.2, color=\"tab:blue\", label=\"2σ uncertainty\"\n",
    ")\n",
    "ax.set_xlabel(\"Wavelength [nm]\")\n",
    "ax.set_ylabel(\"Radiance [-]\")\n",
    "ax.set_xlim(wavelengths[0], wavelengths[-1])\n",
    "ax.grid(True, linestyle=\"--\", alpha=0.7)\n",
    "ax.legend(fontsize=7, loc=\"upper right\", frameon=False)\n",
    "fig.tight_layout()\n",
    "plt.savefig(\"hyperspectral_radiance_toa.pdf\", bbox_inches=\"tight\")\n",
    "plt.show()"
   ]
  },
  {
   "cell_type": "markdown",
   "id": "16",
   "metadata": {},
   "source": [
    "The result shows the normalized radiance spectrum. We used 1000 samples only, this means we can expect significant noise (as visualized by two standard deviations). We clearly see the O2A (~760 nm) and O2B (~686nm) bands and the water vapor absorption bands around 725nm and 825nm.   "
   ]
  }
 ],
 "metadata": {
  "kernelspec": {
   "display_name": "default",
   "language": "python",
   "name": "python3"
  },
  "language_info": {
   "codemirror_mode": {
    "name": "ipython",
    "version": 3
   },
   "file_extension": ".py",
   "mimetype": "text/x-python",
   "name": "python",
   "nbconvert_exporter": "python",
   "pygments_lexer": "ipython3",
   "version": "3.10.18"
  }
 },
 "nbformat": 4,
 "nbformat_minor": 5
}
