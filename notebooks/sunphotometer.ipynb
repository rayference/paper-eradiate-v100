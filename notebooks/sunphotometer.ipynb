{
 "cells": [
  {
   "cell_type": "markdown",
   "id": "0",
   "metadata": {},
   "source": [
    "### Simulation of ground-based sky radiance observations (e.g. AERONET)\n",
    "\n",
    "This example demonstrates how eradiate can be used to simulate ground-based radiometers, e.g. the CIMEL Electronique CE318 multiband sun photometer that performs measurements of spectral sun irradiance and sky radiances and is the instrument used in AERONET. \n",
    "\n"
   ]
  },
  {
   "cell_type": "code",
   "execution_count": null,
   "id": "1",
   "metadata": {},
   "outputs": [],
   "source": [
    "import eradiate\n",
    "import matplotlib.pyplot as plt\n",
    "import numpy as np\n",
    "from eradiate import scenes as ertsc\n",
    "from eradiate import unit_registry as ureg"
   ]
  },
  {
   "cell_type": "markdown",
   "id": "2",
   "metadata": {},
   "source": [
    "In the following we calculate the radiance at a particular wavelength and select the mode \"mono_polarized\" which fully takes into account polarization. For simulations neglecting polarization select \"mono\".\n",
    "\n",
    "List all available modes with ```eradiate.modes()```."
   ]
  },
  {
   "cell_type": "code",
   "execution_count": null,
   "id": "3",
   "metadata": {},
   "outputs": [],
   "source": [
    "eradiate.set_mode(\"mono_polarized\")"
   ]
  },
  {
   "cell_type": "markdown",
   "id": "4",
   "metadata": {},
   "source": [
    "### Definition of a standard atmosphere\n",
    "\n",
    "Standard atmospheres (e.g. tropical, midlatitude summer, midlatitude winter, subarctic summer, subarctic winter, US standard atmosphere 1976) are included in the joseki package and can be included as follows: "
   ]
  },
  {
   "cell_type": "code",
   "execution_count": null,
   "id": "5",
   "metadata": {},
   "outputs": [],
   "source": [
    "usstd = ertsc.atmosphere.MolecularAtmosphere(\n",
    "    thermoprops={\n",
    "        \"identifier\": \"afgl_1986-us_standard\",\n",
    "        \"z\": np.linspace(0.0, 120.0, 121) * ureg.km,\n",
    "    },\n",
    ")"
   ]
  },
  {
   "cell_type": "markdown",
   "id": "6",
   "metadata": {},
   "source": [
    "### Definition of aerosols\n",
    "\n",
    "Define a standard aerosol layer from 0 to 2 km using the desert aerosol type as defined by Govaerts 2021. The optical thickness is 0.5. "
   ]
  },
  {
   "cell_type": "code",
   "execution_count": null,
   "id": "7",
   "metadata": {},
   "outputs": [],
   "source": [
    "particle_layer = ertsc.atmosphere.ParticleLayer(\n",
    "    tau_ref=0.5,\n",
    "    bottom=0 * ureg.m,\n",
    "    top=2 * ureg.km,\n",
    "    distribution=\"uniform\",\n",
    "    w_ref=350 * ureg.nm,\n",
    "    dataset=\"govaerts_2021-desert-extrapolated\",\n",
    ")"
   ]
  },
  {
   "cell_type": "markdown",
   "id": "8",
   "metadata": {},
   "source": [
    "### Merge molecules and particle layer in atmosphere structure"
   ]
  },
  {
   "cell_type": "code",
   "execution_count": null,
   "id": "9",
   "metadata": {},
   "outputs": [],
   "source": [
    "atmosphere = ertsc.atmosphere.HeterogeneousAtmosphere(\n",
    "    molecular_atmosphere=usstd, particle_layers=[particle_layer]\n",
    ")"
   ]
  },
  {
   "cell_type": "markdown",
   "id": "10",
   "metadata": {},
   "source": [
    "### Observation geometry\n",
    "\n",
    "Specify the sensor: set up observation geometries for the almucantar plane and include the center wavelength of CE318."
   ]
  },
  {
   "cell_type": "code",
   "execution_count": null,
   "id": "11",
   "metadata": {},
   "outputs": [],
   "source": [
    "wavelength = np.array([340, 380, 440, 500, 675, 870, 937, 1020, 1640]) * ureg.nm\n",
    "\n",
    "# almucantar plane\n",
    "vza = [np.array([30.0])]\n",
    "vaa = np.arange(0.0, 181.0, 5.0) * ureg.deg\n",
    "\n",
    "layout = eradiate.scenes.measure.GridLayout(\n",
    "    zeniths=vza,\n",
    "    azimuths=vaa,\n",
    ")\n",
    "\n",
    "origins = np.zeros_like(layout.directions) + 0.00001\n",
    "\n",
    "measure = ertsc.measure.MultiRadiancemeterMeasure(\n",
    "    id=\"almucantar\",\n",
    "    origins=origins,\n",
    "    directions=layout.directions,\n",
    "    srf={\"type\": \"multi_delta\", \"wavelengths\": wavelength},\n",
    ")"
   ]
  },
  {
   "cell_type": "markdown",
   "id": "12",
   "metadata": {},
   "source": [
    "### Define an AtmosphereExperiment\n",
    "\n",
    "All is put together in a eradiate \"experiment\". In addition the surface (here Lambertian) and the sun position need to be inlcuded."
   ]
  },
  {
   "cell_type": "code",
   "execution_count": null,
   "id": "13",
   "metadata": {},
   "outputs": [],
   "source": [
    "def run_exp(spp, measure, atmosphere, integrator=None):\n",
    "    \"\"\"\n",
    "    Run almucanter scan.\n",
    "    \"\"\"\n",
    "\n",
    "    if integrator is None:\n",
    "        integrator = ertsc.integrators.VolPathIntegrator()\n",
    "\n",
    "    exp = eradiate.experiments.AtmosphereExperiment(\n",
    "        surface={\n",
    "            \"type\": \"lambertian\",\n",
    "            \"reflectance\": 0.05,\n",
    "        },\n",
    "        illumination={\n",
    "            \"type\": \"directional\",\n",
    "            \"zenith\": 30,\n",
    "            \"azimuth\": 0,\n",
    "            \"irradiance\": 1.0,\n",
    "        },\n",
    "        atmosphere=atmosphere,\n",
    "        measures=measure,\n",
    "        integrator=integrator,\n",
    "    )\n",
    "\n",
    "    exp.integrator.stokes = True\n",
    "    exp.integrator.meridian_align = True\n",
    "\n",
    "    return eradiate.run(exp, spp=spp)"
   ]
  },
  {
   "cell_type": "markdown",
   "id": "14",
   "metadata": {},
   "source": [
    "### Run eradiate"
   ]
  },
  {
   "cell_type": "code",
   "execution_count": null,
   "id": "15",
   "metadata": {},
   "outputs": [],
   "source": [
    "result_eradiate = run_exp(spp=100000, measure=measure, atmosphere=atmosphere)"
   ]
  },
  {
   "cell_type": "markdown",
   "id": "16",
   "metadata": {},
   "source": [
    "### Plot the results"
   ]
  },
  {
   "cell_type": "code",
   "execution_count": null,
   "id": "17",
   "metadata": {},
   "outputs": [],
   "source": [
    "fig, axs = plt.subplots(1, 4, figsize=(20, 4))\n",
    "\n",
    "labels = [\"I\", \"Q\", \"U\", \"V\"]\n",
    "wavelengths = result_eradiate[\"w\"].values\n",
    "\n",
    "for idx in range(3):\n",
    "    axs[idx].set_xlabel(\"vaa [deg]\")\n",
    "    axs[idx].set_ylabel(labels[idx])\n",
    "    axs[idx].set_title(labels[idx])\n",
    "    for w_idx, wl in enumerate(wavelengths):\n",
    "        axs[idx].plot(\n",
    "            vaa,\n",
    "            result_eradiate[\"radiance\"].data[w_idx, idx, 0, :, 0, 0],\n",
    "            label=f\"{int(wl)} nm\" if idx == 0 else None,\n",
    "        )\n",
    "    if idx == 0:\n",
    "        axs[idx].legend(title=\"Wavelength\")\n",
    "\n",
    "# Degree of polarization for each wavelength\n",
    "for w_idx, wl in enumerate(wavelengths):\n",
    "    dop = np.sqrt(\n",
    "        result_eradiate[\"radiance\"].data[w_idx, 1, 0, :, 0, 0] ** 2\n",
    "        + result_eradiate[\"radiance\"].data[w_idx, 2, 0, :, 0, 0] ** 2\n",
    "        + result_eradiate[\"radiance\"].data[w_idx, 3, 0, :, 0, 0] ** 2\n",
    "    ) / np.abs(result_eradiate[\"radiance\"].data[w_idx, 0, 0, :, 0, 0])\n",
    "    axs[3].plot(vaa, dop, label=f\"{int(wl)} nm\")\n",
    "axs[3].set_xlabel(\"vaa [deg]\")\n",
    "axs[3].set_ylabel(\"DoP\")\n",
    "axs[3].set_title(\"Degree of Polarization\")\n",
    "\n",
    "plt.tight_layout()\n",
    "plt.show()"
   ]
  }
 ],
 "metadata": {
  "kernelspec": {
   "display_name": "default",
   "language": "python",
   "name": "python3"
  },
  "language_info": {
   "codemirror_mode": {
    "name": "ipython",
    "version": 3
   },
   "file_extension": ".py",
   "mimetype": "text/x-python",
   "name": "python",
   "nbconvert_exporter": "python",
   "pygments_lexer": "ipython3",
   "version": "3.10.18"
  }
 },
 "nbformat": 4,
 "nbformat_minor": 5
}
