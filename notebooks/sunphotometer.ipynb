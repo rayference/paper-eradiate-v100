{
 "cells": [
  {
   "cell_type": "code",
   "execution_count": null,
   "id": "0",
   "metadata": {},
   "outputs": [],
   "source": [
    "import eradiate\n",
    "import matplotlib.pyplot as plt\n",
    "import matplotlib.cm as cm\n",
    "import numpy as np\n",
    "from eradiate import scenes as ertsc\n",
    "from eradiate import unit_registry as ureg\n",
    "\n",
    "eradiate.plot.set_style()\n",
    "plt.style.use(\"eradiate.mplstyle\")"
   ]
  },
  {
   "cell_type": "markdown",
   "id": "1",
   "metadata": {},
   "source": [
    "In the following we calculate the radiance at a particular wavelength and select the mode \"mono_polarized\" which fully takes into account polarization. For simulations neglecting polarization select \"mono\".\n",
    "\n",
    "List all available modes with ```eradiate.modes()```."
   ]
  },
  {
   "cell_type": "code",
   "execution_count": null,
   "id": "2",
   "metadata": {},
   "outputs": [],
   "source": [
    "eradiate.set_mode(\"mono_polarized\")"
   ]
  },
  {
   "cell_type": "markdown",
   "id": "3",
   "metadata": {},
   "source": [
    "### Definition of a standard atmosphere\n",
    "\n",
    "Standard atmospheres (e.g. tropical, midlatitude summer, midlatitude winter, subarctic summer, subarctic winter, US standard atmosphere 1976) are included in the joseki package and can be included as follows: "
   ]
  },
  {
   "cell_type": "code",
   "execution_count": null,
   "id": "4",
   "metadata": {},
   "outputs": [],
   "source": [
    "usstd = ertsc.atmosphere.MolecularAtmosphere(\n",
    "    thermoprops={\n",
    "        \"identifier\": \"afgl_1986-us_standard\",\n",
    "        \"z\": np.linspace(0.0, 120.0, 121) * ureg.km,\n",
    "    },\n",
    ")"
   ]
  },
  {
   "cell_type": "markdown",
   "id": "5",
   "metadata": {},
   "source": [
    "### Definition of aerosols\n",
    "\n",
    "Define a standard aerosol layer from 0 to 2 km using the desert aerosol type as defined by Govaerts 2021. The optical thickness is 0.5. "
   ]
  },
  {
   "cell_type": "code",
   "execution_count": null,
   "id": "6",
   "metadata": {},
   "outputs": [],
   "source": [
    "particle_layer = ertsc.atmosphere.ParticleLayer(\n",
    "    tau_ref=0.5,\n",
    "    bottom=0 * ureg.m,\n",
    "    top=2 * ureg.km,\n",
    "    distribution=\"uniform\",\n",
    "    w_ref=550 * ureg.nm,\n",
    "    dataset=\"govaerts_2021-desert-extrapolated\",\n",
    ")"
   ]
  },
  {
   "cell_type": "markdown",
   "id": "7",
   "metadata": {},
   "source": [
    "### Merge molecules and particle layer in atmosphere structure"
   ]
  },
  {
   "cell_type": "code",
   "execution_count": null,
   "id": "8",
   "metadata": {},
   "outputs": [],
   "source": [
    "atmosphere = ertsc.atmosphere.HeterogeneousAtmosphere(\n",
    "    molecular_atmosphere=usstd, particle_layers=[particle_layer]\n",
    ")"
   ]
  },
  {
   "cell_type": "markdown",
   "id": "9",
   "metadata": {},
   "source": [
    "### Observation geometry\n",
    "\n",
    "Specify the sensor: set up observation geometries for the almucantar plane and include the center wavelength of CE318."
   ]
  },
  {
   "cell_type": "code",
   "execution_count": null,
   "id": "10",
   "metadata": {},
   "outputs": [],
   "source": [
    "wavelength = np.array([340, 380, 440, 500, 675, 870, 937, 1020, 1640]) * ureg.nm\n",
    "\n",
    "# almucantar plane\n",
    "vza = [np.array([30.0])]\n",
    "vaa = np.arange(0.0, 181.0, 5.0) * ureg.deg\n",
    "\n",
    "layout = eradiate.scenes.measure.GridLayout(\n",
    "    zeniths=vza,\n",
    "    azimuths=vaa,\n",
    ")\n",
    "\n",
    "origins = np.zeros_like(layout.directions) + 0.00001\n",
    "\n",
    "measure = ertsc.measure.MultiRadiancemeterMeasure(\n",
    "    id=\"almucantar\",\n",
    "    origins=origins,\n",
    "    directions=layout.directions,\n",
    "    srf={\"type\": \"delta\", \"wavelengths\": wavelength},\n",
    ")"
   ]
  },
  {
   "cell_type": "markdown",
   "id": "11",
   "metadata": {},
   "source": [
    "### Define an AtmosphereExperiment\n",
    "\n",
    "All is put together in a eradiate \"experiment\". In addition the surface (here Lambertian) and the sun position need to be inlcuded."
   ]
  },
  {
   "cell_type": "code",
   "execution_count": null,
   "id": "12",
   "metadata": {},
   "outputs": [],
   "source": [
    "def run_exp(spp, measure, atmosphere, integrator=None):\n",
    "    \"\"\"\n",
    "    Run almucantar scan.\n",
    "    \"\"\"\n",
    "\n",
    "    if integrator is None:\n",
    "        integrator = ertsc.integrators.PiecewiseVolPathIntegrator()\n",
    "\n",
    "    exp = eradiate.experiments.AtmosphereExperiment(\n",
    "        surface={\n",
    "            \"type\": \"lambertian\",\n",
    "            \"reflectance\": 0.05,\n",
    "        },\n",
    "        illumination={\n",
    "            \"type\": \"directional\",\n",
    "            \"zenith\": 30,\n",
    "            \"azimuth\": 0,\n",
    "            \"irradiance\": 1.0,\n",
    "        },\n",
    "        atmosphere=atmosphere,\n",
    "        measures=measure,\n",
    "        integrator=integrator,\n",
    "    )\n",
    "\n",
    "    exp.integrator.stokes = True\n",
    "    exp.integrator.meridian_align = True\n",
    "\n",
    "    return eradiate.run(exp, spp=spp)"
   ]
  },
  {
   "cell_type": "markdown",
   "id": "13",
   "metadata": {},
   "source": [
    "### Run eradiate"
   ]
  },
  {
   "cell_type": "code",
   "execution_count": null,
   "id": "14",
   "metadata": {},
   "outputs": [],
   "source": [
    "# Set spp=int(1e6) for settings like in the paper\n",
    "result_eradiate = run_exp(spp=100000, measure=measure, atmosphere=atmosphere)"
   ]
  },
  {
   "cell_type": "markdown",
   "id": "15",
   "metadata": {},
   "source": [
    "### Plot the results"
   ]
  },
  {
   "cell_type": "code",
   "execution_count": null,
   "id": "16",
   "metadata": {},
   "outputs": [],
   "source": [
    "fig, axs = plt.subplots(2, 2, figsize=(6, 6), dpi=150, layout=\"constrained\")\n",
    "\n",
    "labels = [\"I\", \"Q\", \"U\", \"Degree of Polarization\"]\n",
    "ylabels = [\"I\", \"Q\", \"U\", \"DoP\"]\n",
    "wavelengths = result_eradiate[\"w\"].values\n",
    "colors = cm.tab10(np.linspace(0, 1, len(wavelengths)))\n",
    "\n",
    "# Flatten axs for easy indexing\n",
    "axs = axs.flatten()\n",
    "\n",
    "for idx in range(3):\n",
    "    for w_idx, wl in enumerate(wavelengths):\n",
    "        axs[idx].plot(\n",
    "            vaa.magnitude,\n",
    "            result_eradiate[\"radiance\"].data[w_idx, idx, 0, :, 0, 0],\n",
    "            label=f\"{wl:.0f} nm\" if idx == 0 else None,\n",
    "            color=colors[w_idx],\n",
    "        )\n",
    "    if idx == 0:\n",
    "        axs[idx].legend(\n",
    "            title=\"Wavelength\",\n",
    "            fontsize=7,\n",
    "            title_fontsize=8,\n",
    "        )\n",
    "\n",
    "# Degree of polarization plot\n",
    "for w_idx, wl in enumerate(wavelengths):\n",
    "    I = result_eradiate[\"radiance\"].data[w_idx, 0, 0, :, 0, 0]\n",
    "    Q = result_eradiate[\"radiance\"].data[w_idx, 1, 0, :, 0, 0]\n",
    "    U = result_eradiate[\"radiance\"].data[w_idx, 2, 0, :, 0, 0]\n",
    "    V = result_eradiate[\"radiance\"].data[w_idx, 3, 0, :, 0, 0]\n",
    "    dop = np.sqrt(Q**2 + U**2 + V**2) / np.abs(I)\n",
    "    axs[3].plot(\n",
    "        vaa.magnitude, dop, label=f\"{int(wl)} nm\", color=colors[w_idx], linewidth=1\n",
    "    )\n",
    "\n",
    "for i, ax in enumerate(axs):\n",
    "    ax.set_title(labels[i], fontsize=10)\n",
    "    ax.tick_params(axis=\"both\", labelsize=8)\n",
    "    ax.set_xlabel(\"Viewing Azimuth Angle [°]\", fontsize=9)\n",
    "\n",
    "fig.get_layout_engine().set(h_pad=0.1)\n",
    "\n",
    "plt.savefig(\"sunphotometer_almucantar.pdf\", bbox_inches=\"tight\", dpi=300)\n",
    "plt.show()"
   ]
  }
 ],
 "metadata": {
  "kernelspec": {
   "display_name": "default",
   "language": "python",
   "name": "python3"
  },
  "language_info": {
   "codemirror_mode": {
    "name": "ipython",
    "version": 3
   },
   "file_extension": ".py",
   "mimetype": "text/x-python",
   "name": "python",
   "nbconvert_exporter": "python",
   "pygments_lexer": "ipython3",
   "version": "3.10.18"
  }
 },
 "nbformat": 4,
 "nbformat_minor": 5
}
