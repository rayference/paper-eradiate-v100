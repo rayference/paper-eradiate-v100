{
 "cells": [
  {
   "cell_type": "markdown",
   "metadata": {},
   "source": [
    "# Sunset on Dakar\n",
    "\n",
    "This example notebook demonstrates a fairly complex usage scenario of Eradiate. It leverages a scene generator developed as part of the [3DREAMS project](https://www.grasp-earth.com/portfolio/3dreams/) to generate a synthetic scene modelled after an area located close to the city of Dakar, in Senegal. Interested readers can refer to the 3DREAMS project documentation and published material for context and details.\n",
    "\n",
    "This scene uses a triangulated DEM mesh sourced from the Copernicus GLO-30 DEM dataset, and land cover data from the ESA WorldCover dataset, both resampled at 100 m resolution to keep memory requirements reasonable. The scene is split into three regions:\n",
    "\n",
    "1. The target region has the highest level of detail and features 100 m-resolution land cover information, and a 30 m-resolution DEM. In this area (a 100 km × 100 km square around the centre of the scene), instances of 3D objects are created on the 100 m × 100 m lattice defined by the DEM and land cover data. The target region is where the simulated instrument is meant to be pointed.\n",
    "\n",
    "2. The buffer region has a lower level of detail, with the DEM resampled at 100 m-resolution, and features no instances of 3D objects. Its role is to provide realistic diffuse radiation / adjacency to measurements made in the target region.\n",
    "\n",
    "3. The background region has a uniform diffuse reflectance and should not be radiatively visible in the target region.\n",
    "\n",
    "When loaded with all possible details (resolved DEM and instances), the scene can be quite large in memory. To allow all users to run this notebook, the default settings remove most detail from the scene. Comments explain how to add more objects and complexity to this lightweight setup.\n",
    "\n",
    "We start with some basic setup:"
   ]
  },
  {
   "cell_type": "code",
   "execution_count": null,
   "metadata": {},
   "outputs": [],
   "source": [
    "import eradiate\n",
    "import dreams_scenes as dsc\n",
    "from pathlib import Path\n",
    "\n",
    "eradiate.plot.set_style()\n",
    "eradiate.set_mode(\"mono\")\n",
    "\n",
    "# Add location of data files to the dreams and mitsuba path resolvers\n",
    "ROOT_DIR = Path(\"..\").resolve()\n",
    "DATA_DIR = ROOT_DIR / \"data/dreams\"\n",
    "\n",
    "mi_fresolver = dsc.datautil.get_mi_fresolver()\n",
    "\n",
    "if DATA_DIR not in dsc.fresolver.paths:\n",
    "    dsc.fresolver.prepend(DATA_DIR)\n",
    "\n",
    "if str(DATA_DIR) not in mi_fresolver:\n",
    "    mi_fresolver.prepend(str(DATA_DIR))"
   ]
  },
  {
   "cell_type": "markdown",
   "metadata": {},
   "source": [
    "Next, we import components that are required to load and render the scene:"
   ]
  },
  {
   "cell_type": "code",
   "execution_count": null,
   "metadata": {},
   "outputs": [],
   "source": [
    "import numpy as np\n",
    "from eradiate.experiments import AtmosphereExperiment\n",
    "from eradiate.units import unit_registry as ureg\n",
    "from eradiate.xarray.interp import dataarray_to_rgb\n",
    "from matplotlib import pyplot as plt\n",
    "\n",
    "from dreams_scenes.scene import SceneComponent"
   ]
  },
  {
   "cell_type": "markdown",
   "metadata": {},
   "source": [
    "To load the scene into memory, we use the 3DREAMS scene loader. The following definition is minimal and focuses on surface features. For now, we will only include the textured surface, without a DEM."
   ]
  },
  {
   "cell_type": "code",
   "execution_count": null,
   "metadata": {},
   "outputs": [],
   "source": [
    "# Locate scene definition file\n",
    "DEBUG = (\n",
    "    True  # If True, use downsampled DEM meshes (less realistic but lower memory usage)\n",
    ")\n",
    "scene_id = \"Dakar\" if not DEBUG else \"Dakar_debug\"\n",
    "fname = dsc.fresolver.resolve(f\"scenes/{scene_id}.yml\", strict=True)\n",
    "\n",
    "# Configure the scene\n",
    "scene_config = dsc.scene.SceneConfig.from_yaml(fname)\n",
    "scene_config.no_topography = True  # Set to False to include the DEM\n",
    "\n",
    "# Load the scene (should take around 30 s)\n",
    "kdict, kpmap = scene_config.load_scene(\n",
    "    components=SceneComponent.SURFACE  # Do not load tiles (lightweight)\n",
    "    # components=SceneComponent.ALL  # Load tiles (uses more memory)\n",
    ")"
   ]
  },
  {
   "cell_type": "markdown",
   "metadata": {},
   "source": [
    "Once the desired surface features are loaded, we configure the measurement, atmosphere and illumination, and we load the scene at the kernel level. That final step will take only a few seconds without tile instances or DEM, and significantly increase (up to several minutes) as the number of features increases. Monitor RAM usage during kernel scene initialization to see if you are putting your hardware under stress. Users with 16 GB of RAM are advised to keep the `DEBUG` flag set to `True`. The highest amount of detail should run comfortably on a setup with 64 GB of RAM."
   ]
  },
  {
   "cell_type": "code",
   "execution_count": null,
   "metadata": {},
   "outputs": [],
   "source": [
    "# Define measurement\n",
    "RGB_CHANNELS = [440.0, 550.0, 660.0] * ureg.nm\n",
    "srf = {\"type\": \"delta\", \"wavelengths\": RGB_CHANNELS}\n",
    "\n",
    "x = -6.5e3\n",
    "y = 12.1e3\n",
    "z = 90.0\n",
    "origin = [x, y, z] * ureg.m\n",
    "target = [\n",
    "    x + np.cos(np.deg2rad(10.0)) * 1000.0,\n",
    "    y + np.sin(np.deg2rad(15.0)) * 1000.0,\n",
    "    0.0,\n",
    "] * ureg.m\n",
    "\n",
    "camera = [\n",
    "    {\n",
    "        \"type\": \"perspective\",\n",
    "        \"id\": \"camera\",\n",
    "        \"origin\": origin,\n",
    "        \"target\": target,\n",
    "        \"up\": [0, 0, 1],\n",
    "        \"fov\": 35,\n",
    "        \"film_resolution\": (854, 480),\n",
    "        \"srf\": srf,\n",
    "        \"spp\": 64,\n",
    "    },\n",
    "]\n",
    "\n",
    "# Load and initialize experiment\n",
    "exp = AtmosphereExperiment(\n",
    "    surface=None,\n",
    "    atmosphere={\"type\": \"molecular\"},\n",
    "    illumination={\"type\": \"directional\", \"zenith\": 80.0, \"azimuth\": 290.0},\n",
    "    measures=camera,\n",
    "    kdict=kdict,\n",
    "    kpmap=kpmap,\n",
    ")\n",
    "exp.init()"
   ]
  },
  {
   "cell_type": "markdown",
   "metadata": {},
   "source": [
    "Now, we are ready to render the image. The initial sample count is very low to ensure fast processing on any hardware. Note that the more surface features are added, the more time is spent to compute the intersection between rays and scene geometry."
   ]
  },
  {
   "cell_type": "code",
   "execution_count": null,
   "metadata": {},
   "outputs": [],
   "source": [
    "# Render image\n",
    "spp = 4  # Very low, increase to reduce noise\n",
    "eradiate.run(exp, spp=spp)"
   ]
  },
  {
   "cell_type": "code",
   "execution_count": null,
   "metadata": {},
   "outputs": [],
   "source": [
    "# Display the image\n",
    "ds = exp.results[\"camera\"]\n",
    "\n",
    "# Apply basic tone mapping (also scale radiance to make image brighter)\n",
    "raw_img = dataarray_to_rgb(\n",
    "    ds[\"radiance\"],\n",
    "    channels=[(\"w\", 660), (\"w\", 550), (\"w\", 440)],\n",
    "    normalize=False,\n",
    ")\n",
    "img = raw_img * 1.8\n",
    "img = np.clip(img, 0, 1)\n",
    "\n",
    "fig, ax = plt.subplots(1, 1, figsize=(6, 6))\n",
    "plt.imshow(img, origin=\"upper\")\n",
    "ax.set_aspect(\"equal\")\n",
    "ax.axis(\"off\")\n",
    "plt.show()\n",
    "plt.close()"
   ]
  },
  {
   "cell_type": "markdown",
   "metadata": {},
   "source": [
    "Now that you have rendered this first image, you can do the following:\n",
    "\n",
    "* Reduce the amount of noise by increasing the number of samples per pixel (`spp`) to 64, or even more if you have a powerful machine and / or time.\n",
    "* Add buildings and vegetation by setting `components=SceneComponent.ALL` in the scene definition loading cell. This is how the figure in the paper was created.\n",
    "* Add the DEM by setting `scene_config.no_topography = False` in the same cell. You might notice unnatural angles or tile positions: the scene generator is basic and additional data sanitization would be required to improve realism.\n",
    "* Increase the resolution of the DEM by setting `DEBUG = False` in the same cell.\n"
   ]
  }
 ],
 "metadata": {
  "kernelspec": {
   "display_name": "default",
   "language": "python",
   "name": "python3"
  },
  "language_info": {
   "codemirror_mode": {
    "name": "ipython",
    "version": 3
   },
   "file_extension": ".py",
   "mimetype": "text/x-python",
   "name": "python",
   "nbconvert_exporter": "python",
   "pygments_lexer": "ipython3",
   "version": "3.10.18"
  }
 },
 "nbformat": 4,
 "nbformat_minor": 2
}
