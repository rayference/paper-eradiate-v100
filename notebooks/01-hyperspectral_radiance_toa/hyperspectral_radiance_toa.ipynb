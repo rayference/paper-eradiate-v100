{
 "cells": [
  {
   "cell_type": "markdown",
   "id": "0",
   "metadata": {},
   "source": [
    "# Calculate radiance spectrum at the top of the atmosphere"
   ]
  },
  {
   "cell_type": "code",
   "execution_count": null,
   "id": "1",
   "metadata": {},
   "outputs": [],
   "source": [
    "# Download the CKD datasets if they are here yet\n",
    "!eradiate data install panellus\n",
    "!eradiate data install mycena"
   ]
  },
  {
   "cell_type": "code",
   "execution_count": null,
   "id": "2",
   "metadata": {},
   "outputs": [],
   "source": [
    "import eradiate\n",
    "import matplotlib.pyplot as plt\n",
    "import numpy as np\n",
    "\n",
    "from eradiate import unit_registry as ureg\n",
    "from eradiate.scenes.atmosphere import MolecularAtmosphere\n",
    "from eradiate import scenes as ertsc"
   ]
  },
  {
   "cell_type": "code",
   "execution_count": null,
   "id": "3",
   "metadata": {},
   "outputs": [],
   "source": [
    "eradiate.fresolver.append(\"../../data\")\n",
    "eradiate.plot.set_style()\n",
    "plt.style.use(\"../eradiate.mplstyle\")"
   ]
  },
  {
   "cell_type": "markdown",
   "id": "4",
   "metadata": {},
   "source": [
    "### Define molecular absorption parameterization\n",
    " \n",
    "We set the simulation mode to \"ckd_double\", which means that we use a correlated-k distribution and run the simuilation in double precision. \n",
    "\n",
    "We select the US standard atmosphere and choose the absorption parameterization \"panellus\" for hyperspectral simulations at a spectral resolution of 1nm."
   ]
  },
  {
   "cell_type": "code",
   "execution_count": null,
   "id": "5",
   "metadata": {},
   "outputs": [],
   "source": [
    "eradiate.set_mode(\"ckd_double\")\n",
    "\n",
    "atmosphere_gas = MolecularAtmosphere(\n",
    "    thermoprops={\n",
    "        \"identifier\": \"afgl_1986-us_standard\",\n",
    "        \"z\": np.linspace(0.0, 120.0, 121) * ureg.km,\n",
    "    },\n",
    "    absorption_data=\"panellus\",  # 'mycena' for 10 nm resolution, 'panellus' for 1 nm\n",
    ")"
   ]
  },
  {
   "cell_type": "markdown",
   "id": "6",
   "metadata": {},
   "source": [
    "### Define an aerosol layer\n",
    "\n",
    "Here we define a uniform aerosol layer between 0 and 3 km altitude with an optical thickness of 2 at 550 nm. The aerosol optical properties correspond to the continental aerosol distribution as parameterized in the SIX6V RT model. "
   ]
  },
  {
   "cell_type": "code",
   "execution_count": null,
   "id": "7",
   "metadata": {},
   "outputs": [],
   "source": [
    "particle_layer = ertsc.atmosphere.ParticleLayer(\n",
    "    tau_ref=2,\n",
    "    w_ref=550,\n",
    "    bottom=0,\n",
    "    top=3 * ureg.km,\n",
    "    distribution=\"uniform\",\n",
    "    dataset=\"sixsv-continental\",\n",
    ")"
   ]
  },
  {
   "cell_type": "markdown",
   "id": "8",
   "metadata": {},
   "source": [
    "Now we combine the molecular atmosphere and the aerosol layer."
   ]
  },
  {
   "cell_type": "code",
   "execution_count": null,
   "id": "9",
   "metadata": {},
   "outputs": [],
   "source": [
    "def make_atmosphere(aerosols):\n",
    "    if aerosols:\n",
    "        particle_layers = [particle_layer]\n",
    "    else:\n",
    "        particle_layers = None\n",
    "\n",
    "    return ertsc.atmosphere.HeterogeneousAtmosphere(\n",
    "        molecular_atmosphere=atmosphere_gas,\n",
    "        particle_layers=particle_layers,\n",
    "    )"
   ]
  },
  {
   "cell_type": "markdown",
   "id": "10",
   "metadata": {},
   "source": [
    "### Define the surface albedo\n",
    "\n",
    "We load a spectral surface albedo file extracted from HAMSTER data as an ascii file and define an InterpolatedSpectrum to be used in the simulation."
   ]
  },
  {
   "cell_type": "code",
   "execution_count": null,
   "id": "11",
   "metadata": {},
   "outputs": [],
   "source": [
    "# spectral albedo data extracted from HAMSTER dataset, read as ascii file\n",
    "from eradiate.scenes.spectra import InterpolatedSpectrum\n",
    "\n",
    "albedo_data = np.loadtxt(\n",
    "    eradiate.fresolver.resolve(\"HAMSTER_spectral_albedo_Gobabeb_015.txt\"),\n",
    "    skiprows=1,\n",
    ")\n",
    "albedo_spectrum = InterpolatedSpectrum(\n",
    "    wavelengths=albedo_data[:, 0], values=albedo_data[:, 1]\n",
    ")"
   ]
  },
  {
   "cell_type": "markdown",
   "id": "12",
   "metadata": {},
   "source": [
    "## Run the computation\n",
    "\n",
    "We now compute the reflected radiance spectrum for two cases: first, only with the molecular component of the atmosphere, then with the aerosol layer. For convenience, we write a small function to add a bit of automation to the simulation setup."
   ]
  },
  {
   "cell_type": "code",
   "execution_count": null,
   "id": "13",
   "metadata": {},
   "outputs": [],
   "source": [
    "# define the atmosphere experiment function\n",
    "def run_exp(spp: int, wmin, wmax, atmosphere, vza, vaa, sza, saa, integrator=None):\n",
    "    \"\"\"\n",
    "    Generate and run an atmosphere experiment.\n",
    "    \"\"\"\n",
    "\n",
    "    if integrator is None:\n",
    "        integrator = ertsc.integrators.PiecewiseVolPathIntegrator()\n",
    "\n",
    "    # set moment to True to compute the variance of the radiance\n",
    "    integrator.moment = True\n",
    "\n",
    "    measure = ertsc.measure.MultiDistantMeasure.hplane(\n",
    "        zeniths=np.array(vza),\n",
    "        azimuth=vaa,\n",
    "        spp=spp,\n",
    "        srf={\"type\": \"uniform\", \"wmin\": wmin, \"wmax\": wmax},\n",
    "    )\n",
    "\n",
    "    exp = eradiate.experiments.AtmosphereExperiment(\n",
    "        surface={\n",
    "            \"type\": \"lambertian\",\n",
    "            \"reflectance\": albedo_spectrum,\n",
    "        },\n",
    "        illumination={\n",
    "            \"type\": \"directional\",\n",
    "            \"zenith\": sza,\n",
    "            \"azimuth\": saa,\n",
    "        },\n",
    "        atmosphere=atmosphere,\n",
    "        measures=measure,\n",
    "        integrator=integrator,\n",
    "    )\n",
    "\n",
    "    return eradiate.run(exp, spp=spp)"
   ]
  },
  {
   "cell_type": "code",
   "execution_count": null,
   "id": "14",
   "metadata": {},
   "outputs": [],
   "source": [
    "# first simulation with no aerosols\n",
    "results_molecular = run_exp(\n",
    "    spp=100,\n",
    "    wmin=600,\n",
    "    wmax=850,\n",
    "    atmosphere=make_atmosphere(aerosols=False),\n",
    "    vza=60,\n",
    "    vaa=75,\n",
    "    sza=30,\n",
    "    saa=160,\n",
    "    integrator=None,\n",
    ")\n",
    "\n",
    "# second simulation with aerosols\n",
    "results_aerosols = run_exp(\n",
    "    spp=100,\n",
    "    wmin=600,\n",
    "    wmax=850,\n",
    "    atmosphere=make_atmosphere(aerosols=True),\n",
    "    vza=60,\n",
    "    vaa=75,\n",
    "    sza=30,\n",
    "    saa=160,\n",
    "    integrator=None,\n",
    ")"
   ]
  },
  {
   "cell_type": "markdown",
   "id": "15",
   "metadata": {},
   "source": [
    "### Plot spectra\n",
    "\n",
    "First, plot reflected radiance spectra at TOA:"
   ]
  },
  {
   "cell_type": "code",
   "execution_count": null,
   "id": "16",
   "metadata": {},
   "outputs": [],
   "source": [
    "import matplotlib.pyplot as plt\n",
    "import matplotlib.patches as mpatches\n",
    "\n",
    "# use xarray to select data and squeeze them to remove unwanted array dimensions\n",
    "# thanks to this, no need to select on dimensions of size 1\n",
    "ds_molecular = results_molecular[[\"radiance\", \"radiance_var\"]].squeeze()\n",
    "ds_aerosols = results_aerosols[[\"radiance\", \"radiance_var\"]].squeeze()\n",
    "irradiance = results_molecular[\"irradiance\"].squeeze()\n",
    "\n",
    "# now, make the plot\n",
    "fig, axs = plt.subplots(\n",
    "    2, 1, height_ratios=[0.5, 1], figsize=(6, 4.5), sharex=True, dpi=120\n",
    ")\n",
    "\n",
    "# add solar irradiance for comparison\n",
    "ax = axs[0]\n",
    "ax.plot(\n",
    "    irradiance.w.values,\n",
    "    irradiance.values,\n",
    "    color=\"C2\",\n",
    "    label=\"Solar horizontal irradiance\",\n",
    "    lw=1,\n",
    ")\n",
    "ax.legend(fontsize=\"small\")\n",
    "ax.set_ylabel(\"Irradiance\\n[W m$^{-2}$ nm$^{-1}$]\")\n",
    "\n",
    "# add TOA reflected radiance\n",
    "ax = axs[1]\n",
    "for ds, color, label in [\n",
    "    (ds_molecular, \"C0\", \"Molecular\"),\n",
    "    (ds_aerosols, \"C1\", \"Aerosols\"),\n",
    "]:\n",
    "    wavelengths = ds[\"w\"].values\n",
    "    brf = ds[\"radiance\"].values\n",
    "    brf_var = ds[\"radiance_var\"].values\n",
    "    std = np.sqrt(brf_var)\n",
    "    upper = brf + 2.0 * std\n",
    "    lower = brf - 2.0 * std\n",
    "\n",
    "    # plot BRF and Monte Carlo uncertainty\n",
    "    ax.plot(wavelengths, brf, label=label, color=color)\n",
    "    ax.fill_between(wavelengths, upper, lower, alpha=0.25, color=color)\n",
    "\n",
    "ax.set_xlabel(\"Wavelength [nm]\")\n",
    "ax.set_ylabel(\"Radiance\\n[W m$^{-2}$ sr$^{-1}$ nm$^{-1}$]\")\n",
    "ax.set_xlim(wavelengths[0], wavelengths[-1])\n",
    "\n",
    "handles, labels = ax.get_legend_handles_labels()\n",
    "handles.append(mpatches.Patch(color=\"black\", alpha=0.25, label=\"2σ uncertainty\"))\n",
    "ax.legend(handles=handles, fontsize=\"small\")\n",
    "\n",
    "plt.savefig(\"hyperspectral_radiance_toa.pdf\", bbox_inches=\"tight\")\n",
    "plt.show()\n",
    "plt.close()"
   ]
  },
  {
   "cell_type": "markdown",
   "id": "17",
   "metadata": {},
   "source": [
    "The result shows the radiance spectrum. We used 100 samples only, this means we can expect significant noise (as visualized by two standard deviations). We clearly see the O2A (\\~760 nm) and O2B (\\~686nm) bands and the water vapor absorption bands around 725nm and 825nm.\n",
    "\n",
    "Next, we can plot the TOA BRF and compare with the surface albedo from HAMSTER:"
   ]
  },
  {
   "cell_type": "code",
   "execution_count": null,
   "id": "18",
   "metadata": {},
   "outputs": [],
   "source": [
    "# now, plot the TOA BRF\n",
    "\n",
    "# first, compute BRF variance\n",
    "def add_brf_var(ds, return_modified=False):\n",
    "    x = np.pi / ds[\"irradiance\"]\n",
    "    ds[\"brf_var\"] = ds[\"radiance_var\"] * x**2\n",
    "\n",
    "    if return_modified:\n",
    "        return ds\n",
    "\n",
    "\n",
    "add_brf_var(results_molecular)\n",
    "add_brf_var(results_aerosols)\n",
    "\n",
    "# then, select the data we are going to plot\n",
    "ds_molecular = results_molecular[[\"brf\", \"brf_var\"]].squeeze()\n",
    "ds_aerosols = results_aerosols[[\"brf\", \"brf_var\"]].squeeze()\n",
    "\n",
    "# now, plot the data as we did for radiance\n",
    "fig, ax = plt.subplots(figsize=(6, 3), dpi=120)\n",
    "\n",
    "for ds, color, label in [\n",
    "    (ds_molecular, \"C0\", \"Molecular\"),\n",
    "    (ds_aerosols, \"C1\", \"Aerosols\"),\n",
    "]:\n",
    "    wavelengths = ds[\"w\"].values\n",
    "    brf = ds[\"brf\"].values\n",
    "    brf_var = ds[\"brf_var\"].values\n",
    "    std = np.sqrt(brf_var)\n",
    "    upper = brf + 2.0 * std\n",
    "    lower = brf - 2.0 * std\n",
    "\n",
    "    # plot BRF and Monte Carlo uncertainty\n",
    "    ax.plot(wavelengths, brf, label=label, color=color)\n",
    "    ax.fill_between(wavelengths, upper, lower, alpha=0.25, color=color)\n",
    "\n",
    "# add the surface albedo for comparison\n",
    "ax.plot(\n",
    "    albedo_spectrum.wavelengths.m_as(\"nm\"),\n",
    "    albedo_spectrum.values,\n",
    "    color=\"C2\",\n",
    "    label=\"Surface albedo\",\n",
    "    lw=1,\n",
    ")\n",
    "\n",
    "ax.set_xlabel(\"Wavelength [nm]\")\n",
    "ax.set_ylabel(\"Reflectance [−]\")\n",
    "ax.set_xlim(wavelengths[0], wavelengths[-1])\n",
    "\n",
    "handles, labels = ax.get_legend_handles_labels()\n",
    "handles.append(mpatches.Patch(color=\"black\", alpha=0.25, lw=1, label=\"2σ uncertainty\"))\n",
    "ax.legend(handles=handles, fontsize=\"small\")\n",
    "\n",
    "plt.savefig(\"hyperspectral_brf_toa.pdf\", bbox_inches=\"tight\")\n",
    "plt.show()\n",
    "plt.close()"
   ]
  }
 ],
 "metadata": {
  "kernelspec": {
   "display_name": "default",
   "language": "python",
   "name": "python3"
  },
  "language_info": {
   "codemirror_mode": {
    "name": "ipython",
    "version": 3
   },
   "file_extension": ".py",
   "mimetype": "text/x-python",
   "name": "python",
   "nbconvert_exporter": "python",
   "pygments_lexer": "ipython3",
   "version": "3.10.18"
  }
 },
 "nbformat": 4,
 "nbformat_minor": 5
}
